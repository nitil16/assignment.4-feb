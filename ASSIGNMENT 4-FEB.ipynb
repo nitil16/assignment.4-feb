{
 "cells": [
  {
   "cell_type": "markdown",
   "id": "676ba8e8-3cc1-4dcf-bde6-0d103cff2647",
   "metadata": {},
   "source": [
    "                                        ASSIGNMENT 4-FEB"
   ]
  },
  {
   "cell_type": "markdown",
   "id": "6af98490-36b8-4cc8-b0d5-799dded7350b",
   "metadata": {},
   "source": [
    "QUESTION.1"
   ]
  },
  {
   "cell_type": "markdown",
   "id": "8090edfe-57b0-4040-8df3-77e4c57d2fd1",
   "metadata": {},
   "source": [
    "Q1. Create a python program to sort the given list of tuples based on integer value using a\n",
    "lambda function.\n",
    "[('Sachin Tendulkar', 34357), ('Ricky Ponting', 27483), ('Jack Kallis', 25534), ('Virat Kohli', 24936)]"
   ]
  },
  {
   "cell_type": "markdown",
   "id": "f6cc8c46-662b-43bf-830c-bca2339c3e14",
   "metadata": {},
   "source": [
    "Ans. Below is the python program to sort the given list of tuples based on integer value using a lambda function."
   ]
  },
  {
   "cell_type": "code",
   "execution_count": 1,
   "id": "0c52cf19-40a5-4243-94b1-26a0303e8141",
   "metadata": {},
   "outputs": [],
   "source": [
    "# CODE LINE GOES HERE "
   ]
  },
  {
   "cell_type": "code",
   "execution_count": 2,
   "id": "e28213be-fbad-40f8-9585-75b75fa35441",
   "metadata": {},
   "outputs": [],
   "source": [
    "list_of_players = [('Sachin Tendulkar', 34357), ('Ricky Ponting', 27483), ('Jack Kallis', 25534), ('Virat Kohli', 24936)]\n",
    "\n"
   ]
  },
  {
   "cell_type": "code",
   "execution_count": 3,
   "id": "1d47d790-c6f0-4e0f-8364-94da16cd83e0",
   "metadata": {},
   "outputs": [],
   "source": [
    "sorted_players = sorted(list_of_players, key = lambda x : x[1], reverse = False)"
   ]
  },
  {
   "cell_type": "code",
   "execution_count": 4,
   "id": "73018361-cbdb-4ef9-991b-48bf10d18ec2",
   "metadata": {},
   "outputs": [
    {
     "name": "stdout",
     "output_type": "stream",
     "text": [
      "[('Virat Kohli', 24936), ('Jack Kallis', 25534), ('Ricky Ponting', 27483), ('Sachin Tendulkar', 34357)]\n"
     ]
    }
   ],
   "source": [
    "print(sorted_players)"
   ]
  },
  {
   "cell_type": "code",
   "execution_count": null,
   "id": "1403686f-3b37-4eb2-816e-5171fbd0f16a",
   "metadata": {},
   "outputs": [],
   "source": []
  },
  {
   "cell_type": "markdown",
   "id": "ddce8f72-d5b4-4fc0-9814-9a69dc6e538b",
   "metadata": {},
   "source": [
    "QUESTION.2"
   ]
  },
  {
   "cell_type": "markdown",
   "id": "69cbdbb6-3fd8-4ba0-a793-a49a83c18300",
   "metadata": {},
   "source": [
    "Q2. Write a Python Program to find the squares of all the numbers in the given list of integers using\n",
    "lambda and map functions.\n",
    "[1, 2, 3, 4, 5, 6, 7, 8, 9, 10]"
   ]
  },
  {
   "cell_type": "markdown",
   "id": "ed01cb5c-3c99-49ff-87ea-f87ea76a31c0",
   "metadata": {},
   "source": [
    "Ans. Below is the Python Program to find the squares of all the numbers in the given list of integers using lambda and map"
   ]
  },
  {
   "cell_type": "code",
   "execution_count": 5,
   "id": "d3f4c337-53d2-4856-a937-06c9a6bb6f77",
   "metadata": {},
   "outputs": [],
   "source": [
    "# CODE LINE GOES HERE"
   ]
  },
  {
   "cell_type": "code",
   "execution_count": 6,
   "id": "626b45a1-79f2-4f08-a2be-110db6854590",
   "metadata": {},
   "outputs": [],
   "source": [
    "l = [1, 2, 3, 4, 5, 6, 7, 8, 9, 10]\n"
   ]
  },
  {
   "cell_type": "code",
   "execution_count": 7,
   "id": "dbefb8fd-8620-4d16-8f7c-c02bbedc2cac",
   "metadata": {},
   "outputs": [
    {
     "data": {
      "text/plain": [
       "[1, 4, 9, 16, 25, 36, 49, 64, 81, 100]"
      ]
     },
     "execution_count": 7,
     "metadata": {},
     "output_type": "execute_result"
    }
   ],
   "source": [
    "list(map(lambda x : x**2, l))"
   ]
  },
  {
   "cell_type": "code",
   "execution_count": null,
   "id": "da7a979d-6de2-4696-8876-ddce55d384f9",
   "metadata": {},
   "outputs": [],
   "source": []
  },
  {
   "cell_type": "markdown",
   "id": "6c14f66c-71f7-4877-9c2f-67cbc337b0ae",
   "metadata": {},
   "source": [
    "QUESTION.3"
   ]
  },
  {
   "cell_type": "markdown",
   "id": "95ba4278-dd5a-4254-b293-61ac639bd689",
   "metadata": {},
   "source": [
    "Q3. Write a python program to convert the given list of integers into a tuple of strings. Use map and\n",
    "lambda functions\n",
    "Given String: [1, 2, 3, 4, 5, 6, 7, 8, 9, 10]\n",
    "Expected output: ('1', '2', '3', '4', '5', '6', '7', '8', '9', '10')"
   ]
  },
  {
   "cell_type": "markdown",
   "id": "bf77f9c3-960d-4986-a487-2b9d24614aa2",
   "metadata": {},
   "source": [
    "Ans. Below is the python program to convert the given list of integers into a tuple of strings using map and lambda functions.\n"
   ]
  },
  {
   "cell_type": "code",
   "execution_count": 8,
   "id": "b3aaf3dc-cee9-446d-afb7-2e8e9d645647",
   "metadata": {},
   "outputs": [],
   "source": [
    "# CODE LINE GOES HERE"
   ]
  },
  {
   "cell_type": "code",
   "execution_count": 9,
   "id": "2f0c6970-a730-49b4-bf7e-63e5024cc771",
   "metadata": {},
   "outputs": [],
   "source": [
    "l = [1, 2, 3, 4, 5, 6, 7, 8, 9, 10]"
   ]
  },
  {
   "cell_type": "code",
   "execution_count": 10,
   "id": "39b4f8e5-6d7e-4406-8ad8-539573bc2a42",
   "metadata": {},
   "outputs": [
    {
     "data": {
      "text/plain": [
       "(1, 2, 3, 4, 5, 6, 7, 8, 9, 10)"
      ]
     },
     "execution_count": 10,
     "metadata": {},
     "output_type": "execute_result"
    }
   ],
   "source": [
    "s = [1, 2, 3, 4, 5, 6, 7, 8, 9, 10]\n",
    "tuple(map(lambda s : s,s))"
   ]
  },
  {
   "cell_type": "code",
   "execution_count": null,
   "id": "9d00a548-3b62-4789-96c2-2345fbee184c",
   "metadata": {},
   "outputs": [],
   "source": []
  },
  {
   "cell_type": "markdown",
   "id": "d5dc1df8-df6c-4988-ae31-9461e82ff464",
   "metadata": {},
   "source": [
    "QUESTION.4"
   ]
  },
  {
   "cell_type": "markdown",
   "id": "66e9104f-bac1-44ae-a3d7-1eb8b4357e3a",
   "metadata": {},
   "source": [
    "Q4. Write a python program using reduce function to compute the product of a list containing numbers\n",
    "from 1 to 25."
   ]
  },
  {
   "cell_type": "markdown",
   "id": "578b38a2-c339-45bf-9482-94b75af1d329",
   "metadata": {},
   "source": [
    "Ans. Below is the python program to compute the product of a list containing numbers from 1 to 25 using reduce function : '''\n"
   ]
  },
  {
   "cell_type": "code",
   "execution_count": 11,
   "id": "0cfed1ed-32a8-4762-ab11-a1e422ef0dd2",
   "metadata": {},
   "outputs": [],
   "source": [
    "# CODE LINE GOES HERE"
   ]
  },
  {
   "cell_type": "code",
   "execution_count": 12,
   "id": "25a72079-8616-4645-bdc1-68ba3316525c",
   "metadata": {},
   "outputs": [],
   "source": [
    "from functools import reduce"
   ]
  },
  {
   "cell_type": "code",
   "execution_count": 13,
   "id": "9bcaa2f3-7187-44ad-9da6-2c3ec8577ded",
   "metadata": {},
   "outputs": [],
   "source": [
    "l = [1,2,3,4,5,6,7,8,9,10,11,12,13,14,15,16,17,18,19,20,21,22,23,24,25]"
   ]
  },
  {
   "cell_type": "code",
   "execution_count": 14,
   "id": "829d5913-c1fc-4740-a93d-d9619bd9d2ea",
   "metadata": {},
   "outputs": [
    {
     "data": {
      "text/plain": [
       "15511210043330985984000000"
      ]
     },
     "execution_count": 14,
     "metadata": {},
     "output_type": "execute_result"
    }
   ],
   "source": [
    "reduce(lambda x,y : x*y , l)"
   ]
  },
  {
   "cell_type": "code",
   "execution_count": null,
   "id": "f5c1fce4-e8eb-429f-b7de-46cb94d5929f",
   "metadata": {},
   "outputs": [],
   "source": []
  },
  {
   "cell_type": "markdown",
   "id": "a90b65c9-e6fe-4ec5-9f05-a8ec47781ac2",
   "metadata": {},
   "source": [
    "QUESTION.5"
   ]
  },
  {
   "cell_type": "markdown",
   "id": "3b11118f-7ac5-41e9-b272-a32700efd4fd",
   "metadata": {},
   "source": [
    "Q5. Write a python program to filter the numbers in a given list that are divisible by 2 and 3 using the\n",
    "filter function.\n",
    "[2, 3, 6, 9, 27, 60, 90, 120, 55, 46]"
   ]
  },
  {
   "cell_type": "markdown",
   "id": "f7d2c972-dd6c-4c76-af19-4fd05d5a8d05",
   "metadata": {},
   "source": [
    "Ans. Below is the python program to filter the numbers in a given list that are divisible by 2 and 3 using the filter function."
   ]
  },
  {
   "cell_type": "code",
   "execution_count": 21,
   "id": "2659bfe1-64f8-490e-b311-b73e54a9f4be",
   "metadata": {},
   "outputs": [],
   "source": [
    "# CODE LINE GOES HERE"
   ]
  },
  {
   "cell_type": "code",
   "execution_count": 22,
   "id": "de2f9efd-1dc8-4ddb-b927-ad51c7cd0401",
   "metadata": {},
   "outputs": [],
   "source": [
    "l = [2, 3, 6, 9, 27, 60, 90, 120, 55, 46]"
   ]
  },
  {
   "cell_type": "code",
   "execution_count": 23,
   "id": "1f345bea-3f3a-4152-ace9-954f21899f39",
   "metadata": {},
   "outputs": [
    {
     "data": {
      "text/plain": [
       "[2, 3, 6, 9, 27, 60, 90, 120, 55, 46]"
      ]
     },
     "execution_count": 23,
     "metadata": {},
     "output_type": "execute_result"
    }
   ],
   "source": [
    "l"
   ]
  },
  {
   "cell_type": "code",
   "execution_count": 24,
   "id": "42c9585b-0d3c-4232-bfe6-5929d5a21166",
   "metadata": {},
   "outputs": [
    {
     "data": {
      "text/plain": [
       "[2, 6, 60, 90, 120, 46]"
      ]
     },
     "execution_count": 24,
     "metadata": {},
     "output_type": "execute_result"
    }
   ],
   "source": [
    "list(filter(lambda x : x%2 == 0 , l))"
   ]
  },
  {
   "cell_type": "code",
   "execution_count": 25,
   "id": "97552f1a-442e-41b1-bd48-3741454c1187",
   "metadata": {},
   "outputs": [
    {
     "data": {
      "text/plain": [
       "[3, 6, 9, 27, 60, 90, 120]"
      ]
     },
     "execution_count": 25,
     "metadata": {},
     "output_type": "execute_result"
    }
   ],
   "source": [
    "list(filter(lambda x : x%3 == 0 , l))"
   ]
  },
  {
   "cell_type": "code",
   "execution_count": null,
   "id": "b78eae1e-5cd1-4377-b7b6-4699d35e049c",
   "metadata": {},
   "outputs": [],
   "source": []
  },
  {
   "cell_type": "markdown",
   "id": "c260cef0-4f7f-4043-91fc-a647c8a8d3b2",
   "metadata": {},
   "source": [
    "QUESTION.6"
   ]
  },
  {
   "cell_type": "markdown",
   "id": "f8d7e18d-c620-45f1-b18d-62100b51b6f4",
   "metadata": {},
   "source": [
    "Q6. Write a python program to find palindromes in the given list of strings using lambda and filter\n",
    "function.\n",
    "['python', 'php', 'aba', 'radar', 'level']"
   ]
  },
  {
   "cell_type": "markdown",
   "id": "85de2db5-818a-41d2-b5eb-fc49fc891300",
   "metadata": {},
   "source": [
    "Ans. Below is the python program to find palindromes in the given list of strings using lambda and filter function."
   ]
  },
  {
   "cell_type": "code",
   "execution_count": 26,
   "id": "0bcc6a99-0563-419e-9543-9fe1fba2a744",
   "metadata": {},
   "outputs": [],
   "source": [
    "# CODE LINE GOES HERE"
   ]
  },
  {
   "cell_type": "code",
   "execution_count": 27,
   "id": "68b2007a-7cc3-4b23-9ed7-a6f5c92b6d5f",
   "metadata": {},
   "outputs": [],
   "source": [
    "l2 = ['python', 'php', 'aba', 'radar', 'level']\n"
   ]
  },
  {
   "cell_type": "code",
   "execution_count": 30,
   "id": "1ca75e69-11f9-4680-9025-7bd51a953382",
   "metadata": {},
   "outputs": [
    {
     "data": {
      "text/plain": [
       "['python', 'php', 'aba', 'radar', 'level']"
      ]
     },
     "execution_count": 30,
     "metadata": {},
     "output_type": "execute_result"
    }
   ],
   "source": [
    "list(filter(lambda x : len(x) < 7 , l2))"
   ]
  },
  {
   "cell_type": "code",
   "execution_count": null,
   "id": "f3efec3c-5794-4041-a8ac-bcee7de488c0",
   "metadata": {},
   "outputs": [],
   "source": []
  }
 ],
 "metadata": {
  "kernelspec": {
   "display_name": "Python 3 (ipykernel)",
   "language": "python",
   "name": "python3"
  },
  "language_info": {
   "codemirror_mode": {
    "name": "ipython",
    "version": 3
   },
   "file_extension": ".py",
   "mimetype": "text/x-python",
   "name": "python",
   "nbconvert_exporter": "python",
   "pygments_lexer": "ipython3",
   "version": "3.10.8"
  }
 },
 "nbformat": 4,
 "nbformat_minor": 5
}
